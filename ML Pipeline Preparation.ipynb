{
 "cells": [
  {
   "cell_type": "markdown",
   "metadata": {},
   "source": [
    "# ML Pipeline Preparation\n",
    "Follow the instructions below to help you create your ML pipeline.\n",
    "### 1. Import libraries and load data from database.\n",
    "- Import Python libraries\n",
    "- Load dataset from database with [`read_sql_table`](https://pandas.pydata.org/pandas-docs/stable/generated/pandas.read_sql_table.html)\n",
    "- Define feature and target variables X and Y"
   ]
  },
  {
   "cell_type": "code",
   "execution_count": 1,
   "metadata": {},
   "outputs": [
    {
     "name": "stdout",
     "output_type": "stream",
     "text": [
      "[nltk_data] Downloading package punkt to /root/nltk_data...\n",
      "[nltk_data]   Unzipping tokenizers/punkt.zip.\n",
      "[nltk_data] Downloading package stopwords to /root/nltk_data...\n",
      "[nltk_data]   Unzipping corpora/stopwords.zip.\n"
     ]
    }
   ],
   "source": [
    "# import libraries\n",
    "import pandas as pd\n",
    "import numpy as np\n",
    "from sqlalchemy import create_engine\n",
    "import re\n",
    "import pickle\n",
    "import nltk\n",
    "\n",
    "nltk.download('punkt')\n",
    "nltk.download('stopwords')\n",
    "\n",
    "from nltk.corpus import stopwords\n",
    "from nltk.tokenize import word_tokenize\n",
    "from nltk.stem.porter import PorterStemmer\n",
    "\n",
    "from sklearn.pipeline import Pipeline\n",
    "from sklearn.feature_extraction.text import CountVectorizer, TfidfTransformer\n",
    "from sklearn.model_selection import train_test_split, GridSearchCV\n",
    "from sklearn.ensemble import RandomForestClassifier\n",
    "from sklearn.multioutput import MultiOutputClassifier\n",
    "from sklearn.metrics import accuracy_score, precision_score, recall_score, f1_score, make_scorer\n",
    "from sklearn.model_selection import GridSearchCV\n",
    "from sklearn.svm import SVC\n",
    "\n",
    "import warnings\n",
    "\n",
    "warnings.simplefilter('ignore')"
   ]
  },
  {
   "cell_type": "code",
   "execution_count": 2,
   "metadata": {},
   "outputs": [],
   "source": [
    "# load data from database\n",
    "engine = create_engine('sqlite:///Messages.db')\n",
    "df = pd.read_sql(\"SELECT * FROM Messages\", engine)\n",
    "X = df['message']\n",
    "Y = df.drop(['id', 'message', 'original', 'genre'], axis = 1)"
   ]
  },
  {
   "cell_type": "markdown",
   "metadata": {},
   "source": [
    "### 2. Write a tokenization function to process your text data"
   ]
  },
  {
   "cell_type": "code",
   "execution_count": 3,
   "metadata": {},
   "outputs": [],
   "source": [
    "def tokenize(text):\n",
    "    # Convert text to lowercase and remove punctuation\n",
    "    text = re.sub(r\"[^a-zA-Z0-9]\", \" \", text.lower())\n",
    "    # Tokenize words\n",
    "    tokens = word_tokenize(text)\n",
    "    # Stem word tokens and remove stop words\n",
    "    stemmer = PorterStemmer()\n",
    "    stop_words = stopwords.words(\"english\")\n",
    "    stemmed = [stemmer.stem(word) for word in tokens if word not in stop_words]\n",
    "    return stemmed"
   ]
  },
  {
   "cell_type": "markdown",
   "metadata": {},
   "source": [
    "### 3. Build a machine learning pipeline\n",
    "This machine pipeline should take in the `message` column as input and output classification results on the other 36 categories in the dataset. You may find the [MultiOutputClassifier](http://scikit-learn.org/stable/modules/generated/sklearn.multioutput.MultiOutputClassifier.html) helpful for predicting multiple target variables."
   ]
  },
  {
   "cell_type": "code",
   "execution_count": 4,
   "metadata": {},
   "outputs": [],
   "source": [
    "pipeline = Pipeline([\n",
    "    ('vect', CountVectorizer(tokenizer = tokenize)),\n",
    "    ('tfidf', TfidfTransformer()),\n",
    "    ('clf', MultiOutputClassifier(RandomForestClassifier()))\n",
    "])"
   ]
  },
  {
   "cell_type": "markdown",
   "metadata": {},
   "source": [
    "### 4. Train pipeline\n",
    "- Split data into train and test sets\n",
    "- Train pipeline"
   ]
  },
  {
   "cell_type": "code",
   "execution_count": 5,
   "metadata": {},
   "outputs": [
    {
     "data": {
      "text/plain": [
       "Pipeline(memory=None,\n",
       "     steps=[('vect', CountVectorizer(analyzer='word', binary=False, decode_error='strict',\n",
       "        dtype=<class 'numpy.int64'>, encoding='utf-8', input='content',\n",
       "        lowercase=True, max_df=1.0, max_features=None, min_df=1,\n",
       "        ngram_range=(1, 1), preprocessor=None, stop_words=None,\n",
       "        strip...oob_score=False, random_state=None, verbose=0,\n",
       "            warm_start=False),\n",
       "           n_jobs=1))])"
      ]
     },
     "execution_count": 5,
     "metadata": {},
     "output_type": "execute_result"
    }
   ],
   "source": [
    "X_train, X_test, Y_train, Y_test = train_test_split(X, Y, random_state = 1)\n",
    "np.random.seed(17)\n",
    "pipeline.fit(X_train, Y_train)"
   ]
  },
  {
   "cell_type": "markdown",
   "metadata": {},
   "source": [
    "### 5. Test your model\n",
    "Report the f1 score, precision and recall for each output category of the dataset. You can do this by iterating through the columns and calling sklearn's `classification_report` on each."
   ]
  },
  {
   "cell_type": "code",
   "execution_count": 6,
   "metadata": {},
   "outputs": [],
   "source": [
    "def get_eval_metrics(actual, predicted, col_names):\n",
    "    metrics = []\n",
    "    for i in range(len(col_names)):\n",
    "        accuracy = accuracy_score(actual[:, i], predicted[:, i])\n",
    "        precision = precision_score(actual[:, i], predicted[:, i],average='micro')\n",
    "        recall = recall_score(actual[:, i], predicted[:, i],average='micro')\n",
    "        f1 = f1_score(actual[:, i], predicted[:, i],average='micro')\n",
    "        metrics.append([accuracy, precision, recall, f1])\n",
    "    metrics = np.array(metrics)\n",
    "    metrics_df = pd.DataFrame(data = metrics, index = col_names, columns = ['Accuracy', 'Precision', 'Recall', 'F1'])\n",
    "    return metrics_df"
   ]
  },
  {
   "cell_type": "code",
   "execution_count": 7,
   "metadata": {},
   "outputs": [],
   "source": [
    "Y_train_pred = pipeline.predict(X_train)"
   ]
  },
  {
   "cell_type": "code",
   "execution_count": 8,
   "metadata": {},
   "outputs": [],
   "source": [
    "col_names = list(Y.columns.values)"
   ]
  },
  {
   "cell_type": "code",
   "execution_count": 9,
   "metadata": {},
   "outputs": [
    {
     "name": "stdout",
     "output_type": "stream",
     "text": [
      "                        Accuracy  Precision    Recall        F1\n",
      "related                 0.990133   0.990133  0.990133  0.990133\n",
      "request                 0.985556   0.985556  0.985556  0.985556\n",
      "offer                   0.998576   0.998576  0.998576  0.998576\n",
      "aid_related             0.985505   0.985505  0.985505  0.985505\n",
      "medical_help            0.988455   0.988455  0.988455  0.988455\n",
      "medical_products        0.991964   0.991964  0.991964  0.991964\n",
      "search_and_rescue       0.994202   0.994202  0.994202  0.994202\n",
      "security                0.994863   0.994863  0.994863  0.994863\n",
      "military                0.994965   0.994965  0.994965  0.994965\n",
      "child_alone             1.000000   1.000000  1.000000  1.000000\n",
      "water                   0.994761   0.994761  0.994761  0.994761\n",
      "food                    0.995219   0.995219  0.995219  0.995219\n",
      "shelter                 0.992371   0.992371  0.992371  0.992371\n",
      "clothing                0.998067   0.998067  0.998067  0.998067\n",
      "money                   0.995423   0.995423  0.995423  0.995423\n",
      "missing_people          0.997101   0.997101  0.997101  0.997101\n",
      "refugees                0.994100   0.994100  0.994100  0.994100\n",
      "death                   0.993592   0.993592  0.993592  0.993592\n",
      "other_aid               0.976859   0.976859  0.976859  0.976859\n",
      "infrastructure_related  0.986624   0.986624  0.986624  0.986624\n",
      "transport               0.990947   0.990947  0.990947  0.990947\n",
      "buildings               0.992625   0.992625  0.992625  0.992625\n",
      "electricity             0.996643   0.996643  0.996643  0.996643\n",
      "tools                   0.998169   0.998169  0.998169  0.998169\n",
      "hospitals               0.997203   0.997203  0.997203  0.997203\n",
      "shops                   0.998423   0.998423  0.998423  0.998423\n",
      "aid_centers             0.997660   0.997660  0.997660  0.997660\n",
      "other_infrastructure    0.989167   0.989167  0.989167  0.989167\n",
      "weather_related         0.987133   0.987133  0.987133  0.987133\n",
      "floods                  0.993185   0.993185  0.993185  0.993185\n",
      "storm                   0.994711   0.994711  0.994711  0.994711\n",
      "fire                    0.997915   0.997915  0.997915  0.997915\n",
      "earthquake              0.995270   0.995270  0.995270  0.995270\n",
      "cold                    0.996440   0.996440  0.996440  0.996440\n",
      "other_weather           0.988913   0.988913  0.988913  0.988913\n",
      "direct_report           0.981691   0.981691  0.981691  0.981691\n"
     ]
    }
   ],
   "source": [
    "print(get_eval_metrics(np.array(Y_train), Y_train_pred, col_names))"
   ]
  },
  {
   "cell_type": "code",
   "execution_count": 10,
   "metadata": {},
   "outputs": [
    {
     "name": "stdout",
     "output_type": "stream",
     "text": [
      "                        Accuracy  Precision    Recall        F1\n",
      "related                 0.804852   0.804852  0.804852  0.804852\n",
      "request                 0.884956   0.884956  0.884956  0.884956\n",
      "offer                   0.996033   0.996033  0.996033  0.996033\n",
      "aid_related             0.740769   0.740769  0.740769  0.740769\n",
      "medical_help            0.917760   0.917760  0.917760  0.917760\n",
      "medical_products        0.950259   0.950259  0.950259  0.950259\n",
      "search_and_rescue       0.975130   0.975130  0.975130  0.975130\n",
      "security                0.982148   0.982148  0.982148  0.982148\n",
      "military                0.971010   0.971010  0.971010  0.971010\n",
      "child_alone             1.000000   1.000000  1.000000  1.000000\n",
      "water                   0.949802   0.949802  0.949802  0.949802\n",
      "food                    0.941562   0.941562  0.941562  0.941562\n",
      "shelter                 0.933781   0.933781  0.933781  0.933781\n",
      "clothing                0.988099   0.988099  0.988099  0.988099\n",
      "money                   0.978792   0.978792  0.978792  0.978792\n",
      "missing_people          0.988099   0.988099  0.988099  0.988099\n",
      "refugees                0.967196   0.967196  0.967196  0.967196\n",
      "death                   0.959414   0.959414  0.959414  0.959414\n",
      "other_aid               0.863290   0.863290  0.863290  0.863290\n",
      "infrastructure_related  0.934849   0.934849  0.934849  0.934849\n",
      "transport               0.956057   0.956057  0.956057  0.956057\n",
      "buildings               0.948734   0.948734  0.948734  0.948734\n",
      "electricity             0.979860   0.979860  0.979860  0.979860\n",
      "tools                   0.994202   0.994202  0.994202  0.994202\n",
      "hospitals               0.989777   0.989777  0.989777  0.989777\n",
      "shops                   0.995728   0.995728  0.995728  0.995728\n",
      "aid_centers             0.989167   0.989167  0.989167  0.989167\n",
      "other_infrastructure    0.954837   0.954837  0.954837  0.954837\n",
      "weather_related         0.858407   0.858407  0.858407  0.858407\n",
      "floods                  0.948276   0.948276  0.948276  0.948276\n",
      "storm                   0.935459   0.935459  0.935459  0.935459\n",
      "fire                    0.988557   0.988557  0.988557  0.988557\n",
      "earthquake              0.965365   0.965365  0.965365  0.965365\n",
      "cold                    0.983369   0.983369  0.983369  0.983369\n",
      "other_weather           0.949802   0.949802  0.949802  0.949802\n",
      "direct_report           0.839182   0.839182  0.839182  0.839182\n"
     ]
    }
   ],
   "source": [
    "Y_test_pred = pipeline.predict(X_test)\n",
    "eval_metrics0 = get_eval_metrics(np.array(Y_test), Y_test_pred, col_names)\n",
    "print(eval_metrics0)"
   ]
  },
  {
   "cell_type": "code",
   "execution_count": 11,
   "metadata": {},
   "outputs": [
    {
     "data": {
      "text/plain": [
       "related                   0.773650\n",
       "request                   0.170659\n",
       "offer                     0.004501\n",
       "aid_related               0.414251\n",
       "medical_help              0.079493\n",
       "medical_products          0.050084\n",
       "search_and_rescue         0.027617\n",
       "security                  0.017966\n",
       "military                  0.032804\n",
       "child_alone               0.000000\n",
       "water                     0.063778\n",
       "food                      0.111497\n",
       "shelter                   0.088267\n",
       "clothing                  0.015449\n",
       "money                     0.023039\n",
       "missing_people            0.011367\n",
       "refugees                  0.033377\n",
       "death                     0.045545\n",
       "other_aid                 0.131446\n",
       "infrastructure_related    0.065037\n",
       "transport                 0.045812\n",
       "buildings                 0.050847\n",
       "electricity               0.020293\n",
       "tools                     0.006065\n",
       "hospitals                 0.010795\n",
       "shops                     0.004577\n",
       "aid_centers               0.011787\n",
       "other_infrastructure      0.043904\n",
       "weather_related           0.278341\n",
       "floods                    0.082202\n",
       "storm                     0.093187\n",
       "fire                      0.010757\n",
       "earthquake                0.093645\n",
       "cold                      0.020217\n",
       "other_weather             0.052487\n",
       "direct_report             0.193584\n",
       "dtype: float64"
      ]
     },
     "execution_count": 11,
     "metadata": {},
     "output_type": "execute_result"
    }
   ],
   "source": [
    "# %1's in each column\n",
    "Y.sum()/len(Y)"
   ]
  },
  {
   "cell_type": "markdown",
   "metadata": {},
   "source": [
    "### 6. Improve your model\n",
    "Use grid search to find better parameters. "
   ]
  },
  {
   "cell_type": "code",
   "execution_count": 12,
   "metadata": {},
   "outputs": [],
   "source": [
    "def performance_metric(y_true, y_pred):\n",
    "    f1_list = []\n",
    "    for i in range(np.shape(y_pred)[1]):\n",
    "        f1 = f1_score(np.array(y_true)[:, i], y_pred[:, i],average='micro')\n",
    "        f1_list.append(f1)\n",
    "        \n",
    "    score = np.median(f1_list)\n",
    "    return score\n",
    "scorer = make_scorer(performance_metric)"
   ]
  },
  {
   "cell_type": "code",
   "execution_count": 13,
   "metadata": {},
   "outputs": [
    {
     "name": "stdout",
     "output_type": "stream",
     "text": [
      "Fitting 3 folds for each of 16 candidates, totalling 48 fits\n",
      "[CV] clf__estimator__min_samples_split=10, clf__estimator__n_estimators=10, tfidf__use_idf=True, vect__min_df=1 \n",
      "[CV]  clf__estimator__min_samples_split=10, clf__estimator__n_estimators=10, tfidf__use_idf=True, vect__min_df=1, score=0.9572779981690571, total=  46.9s\n",
      "[CV] clf__estimator__min_samples_split=10, clf__estimator__n_estimators=10, tfidf__use_idf=True, vect__min_df=1 \n"
     ]
    },
    {
     "name": "stderr",
     "output_type": "stream",
     "text": [
      "[Parallel(n_jobs=1)]: Done   1 out of   1 | elapsed:  1.1min remaining:    0.0s\n"
     ]
    },
    {
     "name": "stdout",
     "output_type": "stream",
     "text": [
      "[CV]  clf__estimator__min_samples_split=10, clf__estimator__n_estimators=10, tfidf__use_idf=True, vect__min_df=1, score=0.9597192554165396, total=  46.8s\n",
      "[CV] clf__estimator__min_samples_split=10, clf__estimator__n_estimators=10, tfidf__use_idf=True, vect__min_df=1 \n"
     ]
    },
    {
     "name": "stderr",
     "output_type": "stream",
     "text": [
      "[Parallel(n_jobs=1)]: Done   2 out of   2 | elapsed:  2.2min remaining:    0.0s\n"
     ]
    },
    {
     "name": "stdout",
     "output_type": "stream",
     "text": [
      "[CV]  clf__estimator__min_samples_split=10, clf__estimator__n_estimators=10, tfidf__use_idf=True, vect__min_df=1, score=0.9586512053707659, total=  46.7s\n",
      "[CV] clf__estimator__min_samples_split=10, clf__estimator__n_estimators=10, tfidf__use_idf=True, vect__min_df=5 \n"
     ]
    },
    {
     "name": "stderr",
     "output_type": "stream",
     "text": [
      "[Parallel(n_jobs=1)]: Done   3 out of   3 | elapsed:  3.2min remaining:    0.0s\n"
     ]
    },
    {
     "name": "stdout",
     "output_type": "stream",
     "text": [
      "[CV]  clf__estimator__min_samples_split=10, clf__estimator__n_estimators=10, tfidf__use_idf=True, vect__min_df=5, score=0.9610924626182484, total=  43.5s\n",
      "[CV] clf__estimator__min_samples_split=10, clf__estimator__n_estimators=10, tfidf__use_idf=True, vect__min_df=5 \n"
     ]
    },
    {
     "name": "stderr",
     "output_type": "stream",
     "text": [
      "[Parallel(n_jobs=1)]: Done   4 out of   4 | elapsed:  4.2min remaining:    0.0s\n"
     ]
    },
    {
     "name": "stdout",
     "output_type": "stream",
     "text": [
      "[CV]  clf__estimator__min_samples_split=10, clf__estimator__n_estimators=10, tfidf__use_idf=True, vect__min_df=5, score=0.9603295697284101, total=  43.6s\n",
      "[CV] clf__estimator__min_samples_split=10, clf__estimator__n_estimators=10, tfidf__use_idf=True, vect__min_df=5 \n"
     ]
    },
    {
     "name": "stderr",
     "output_type": "stream",
     "text": [
      "[Parallel(n_jobs=1)]: Done   5 out of   5 | elapsed:  5.3min remaining:    0.0s\n"
     ]
    },
    {
     "name": "stdout",
     "output_type": "stream",
     "text": [
      "[CV]  clf__estimator__min_samples_split=10, clf__estimator__n_estimators=10, tfidf__use_idf=True, vect__min_df=5, score=0.9606347268843454, total=  43.7s\n",
      "[CV] clf__estimator__min_samples_split=10, clf__estimator__n_estimators=10, tfidf__use_idf=False, vect__min_df=1 \n"
     ]
    },
    {
     "name": "stderr",
     "output_type": "stream",
     "text": [
      "[Parallel(n_jobs=1)]: Done   6 out of   6 | elapsed:  6.3min remaining:    0.0s\n"
     ]
    },
    {
     "name": "stdout",
     "output_type": "stream",
     "text": [
      "[CV]  clf__estimator__min_samples_split=10, clf__estimator__n_estimators=10, tfidf__use_idf=False, vect__min_df=1, score=0.9584986267927983, total=  46.2s\n",
      "[CV] clf__estimator__min_samples_split=10, clf__estimator__n_estimators=10, tfidf__use_idf=False, vect__min_df=1 \n"
     ]
    },
    {
     "name": "stderr",
     "output_type": "stream",
     "text": [
      "[Parallel(n_jobs=1)]: Done   7 out of   7 | elapsed:  7.3min remaining:    0.0s\n"
     ]
    },
    {
     "name": "stdout",
     "output_type": "stream",
     "text": [
      "[CV]  clf__estimator__min_samples_split=10, clf__estimator__n_estimators=10, tfidf__use_idf=False, vect__min_df=1, score=0.9598718339945072, total=  46.4s\n",
      "[CV] clf__estimator__min_samples_split=10, clf__estimator__n_estimators=10, tfidf__use_idf=False, vect__min_df=1 \n"
     ]
    },
    {
     "name": "stderr",
     "output_type": "stream",
     "text": [
      "[Parallel(n_jobs=1)]: Done   8 out of   8 | elapsed:  8.4min remaining:    0.0s\n"
     ]
    },
    {
     "name": "stdout",
     "output_type": "stream",
     "text": [
      "[CV]  clf__estimator__min_samples_split=10, clf__estimator__n_estimators=10, tfidf__use_idf=False, vect__min_df=1, score=0.9592615196826366, total=  46.2s\n",
      "[CV] clf__estimator__min_samples_split=10, clf__estimator__n_estimators=10, tfidf__use_idf=False, vect__min_df=5 \n"
     ]
    },
    {
     "name": "stderr",
     "output_type": "stream",
     "text": [
      "[Parallel(n_jobs=1)]: Done   9 out of   9 | elapsed:  9.5min remaining:    0.0s\n"
     ]
    },
    {
     "name": "stdout",
     "output_type": "stream",
     "text": [
      "[CV]  clf__estimator__min_samples_split=10, clf__estimator__n_estimators=10, tfidf__use_idf=False, vect__min_df=5, score=0.959948123283491, total=  42.4s\n",
      "[CV] clf__estimator__min_samples_split=10, clf__estimator__n_estimators=10, tfidf__use_idf=False, vect__min_df=5 \n",
      "[CV]  clf__estimator__min_samples_split=10, clf__estimator__n_estimators=10, tfidf__use_idf=False, vect__min_df=5, score=0.9598718339945072, total=  42.2s\n",
      "[CV] clf__estimator__min_samples_split=10, clf__estimator__n_estimators=10, tfidf__use_idf=False, vect__min_df=5 \n",
      "[CV]  clf__estimator__min_samples_split=10, clf__estimator__n_estimators=10, tfidf__use_idf=False, vect__min_df=5, score=0.9617790662191028, total=  42.3s\n",
      "[CV] clf__estimator__min_samples_split=10, clf__estimator__n_estimators=25, tfidf__use_idf=True, vect__min_df=1 \n",
      "[CV]  clf__estimator__min_samples_split=10, clf__estimator__n_estimators=25, tfidf__use_idf=True, vect__min_df=1, score=0.9594140982606042, total= 1.4min\n",
      "[CV] clf__estimator__min_samples_split=10, clf__estimator__n_estimators=25, tfidf__use_idf=True, vect__min_df=1 \n",
      "[CV]  clf__estimator__min_samples_split=10, clf__estimator__n_estimators=25, tfidf__use_idf=True, vect__min_df=1, score=0.9580408910588953, total= 1.4min\n",
      "[CV] clf__estimator__min_samples_split=10, clf__estimator__n_estimators=25, tfidf__use_idf=True, vect__min_df=1 \n",
      "[CV]  clf__estimator__min_samples_split=10, clf__estimator__n_estimators=25, tfidf__use_idf=True, vect__min_df=1, score=0.9583460482148306, total= 1.4min\n",
      "[CV] clf__estimator__min_samples_split=10, clf__estimator__n_estimators=25, tfidf__use_idf=True, vect__min_df=5 \n",
      "[CV]  clf__estimator__min_samples_split=10, clf__estimator__n_estimators=25, tfidf__use_idf=True, vect__min_df=5, score=0.9629234055538602, total= 1.3min\n",
      "[CV] clf__estimator__min_samples_split=10, clf__estimator__n_estimators=25, tfidf__use_idf=True, vect__min_df=5 \n",
      "[CV]  clf__estimator__min_samples_split=10, clf__estimator__n_estimators=25, tfidf__use_idf=True, vect__min_df=5, score=0.9617790662191028, total= 1.3min\n",
      "[CV] clf__estimator__min_samples_split=10, clf__estimator__n_estimators=25, tfidf__use_idf=True, vect__min_df=5 \n",
      "[CV]  clf__estimator__min_samples_split=10, clf__estimator__n_estimators=25, tfidf__use_idf=True, vect__min_df=5, score=0.9623130912419896, total= 1.3min\n",
      "[CV] clf__estimator__min_samples_split=10, clf__estimator__n_estimators=25, tfidf__use_idf=False, vect__min_df=1 \n",
      "[CV]  clf__estimator__min_samples_split=10, clf__estimator__n_estimators=25, tfidf__use_idf=False, vect__min_df=1, score=0.9575068660360085, total= 1.4min\n",
      "[CV] clf__estimator__min_samples_split=10, clf__estimator__n_estimators=25, tfidf__use_idf=False, vect__min_df=1 \n",
      "[CV]  clf__estimator__min_samples_split=10, clf__estimator__n_estimators=25, tfidf__use_idf=False, vect__min_df=1, score=0.9575068660360085, total= 1.4min\n",
      "[CV] clf__estimator__min_samples_split=10, clf__estimator__n_estimators=25, tfidf__use_idf=False, vect__min_df=1 \n",
      "[CV]  clf__estimator__min_samples_split=10, clf__estimator__n_estimators=25, tfidf__use_idf=False, vect__min_df=1, score=0.9587274946597497, total= 1.4min\n",
      "[CV] clf__estimator__min_samples_split=10, clf__estimator__n_estimators=25, tfidf__use_idf=False, vect__min_df=5 \n",
      "[CV]  clf__estimator__min_samples_split=10, clf__estimator__n_estimators=25, tfidf__use_idf=False, vect__min_df=5, score=0.9645254806225205, total= 1.2min\n",
      "[CV] clf__estimator__min_samples_split=10, clf__estimator__n_estimators=25, tfidf__use_idf=False, vect__min_df=5 \n",
      "[CV]  clf__estimator__min_samples_split=10, clf__estimator__n_estimators=25, tfidf__use_idf=False, vect__min_df=5, score=0.9591852303936528, total= 1.2min\n",
      "[CV] clf__estimator__min_samples_split=10, clf__estimator__n_estimators=25, tfidf__use_idf=False, vect__min_df=5 \n",
      "[CV]  clf__estimator__min_samples_split=10, clf__estimator__n_estimators=25, tfidf__use_idf=False, vect__min_df=5, score=0.9620842233750382, total= 1.2min\n",
      "[CV] clf__estimator__min_samples_split=20, clf__estimator__n_estimators=10, tfidf__use_idf=True, vect__min_df=1 \n",
      "[CV]  clf__estimator__min_samples_split=20, clf__estimator__n_estimators=10, tfidf__use_idf=True, vect__min_df=1, score=0.9591852303936528, total=  44.4s\n",
      "[CV] clf__estimator__min_samples_split=20, clf__estimator__n_estimators=10, tfidf__use_idf=True, vect__min_df=1 \n",
      "[CV]  clf__estimator__min_samples_split=20, clf__estimator__n_estimators=10, tfidf__use_idf=True, vect__min_df=1, score=0.9588037839487336, total=  44.6s\n",
      "[CV] clf__estimator__min_samples_split=20, clf__estimator__n_estimators=10, tfidf__use_idf=True, vect__min_df=1 \n",
      "[CV]  clf__estimator__min_samples_split=20, clf__estimator__n_estimators=10, tfidf__use_idf=True, vect__min_df=1, score=0.9583460482148306, total=  44.9s\n",
      "[CV] clf__estimator__min_samples_split=20, clf__estimator__n_estimators=10, tfidf__use_idf=True, vect__min_df=5 \n",
      "[CV]  clf__estimator__min_samples_split=20, clf__estimator__n_estimators=10, tfidf__use_idf=True, vect__min_df=5, score=0.9612450411962161, total=  42.2s\n",
      "[CV] clf__estimator__min_samples_split=20, clf__estimator__n_estimators=10, tfidf__use_idf=True, vect__min_df=5 \n",
      "[CV]  clf__estimator__min_samples_split=20, clf__estimator__n_estimators=10, tfidf__use_idf=True, vect__min_df=5, score=0.9611687519072323, total=  42.1s\n",
      "[CV] clf__estimator__min_samples_split=20, clf__estimator__n_estimators=10, tfidf__use_idf=True, vect__min_df=5 \n",
      "[CV]  clf__estimator__min_samples_split=20, clf__estimator__n_estimators=10, tfidf__use_idf=True, vect__min_df=5, score=0.9617790662191028, total=  42.1s\n",
      "[CV] clf__estimator__min_samples_split=20, clf__estimator__n_estimators=10, tfidf__use_idf=False, vect__min_df=1 \n",
      "[CV]  clf__estimator__min_samples_split=20, clf__estimator__n_estimators=10, tfidf__use_idf=False, vect__min_df=1, score=0.9575068660360085, total=  43.6s\n",
      "[CV] clf__estimator__min_samples_split=20, clf__estimator__n_estimators=10, tfidf__use_idf=False, vect__min_df=1 \n",
      "[CV]  clf__estimator__min_samples_split=20, clf__estimator__n_estimators=10, tfidf__use_idf=False, vect__min_df=1, score=0.9573542874580409, total=  44.1s\n",
      "[CV] clf__estimator__min_samples_split=20, clf__estimator__n_estimators=10, tfidf__use_idf=False, vect__min_df=1 \n",
      "[CV]  clf__estimator__min_samples_split=20, clf__estimator__n_estimators=10, tfidf__use_idf=False, vect__min_df=1, score=0.9584986267927983, total=  44.1s\n",
      "[CV] clf__estimator__min_samples_split=20, clf__estimator__n_estimators=10, tfidf__use_idf=False, vect__min_df=5 \n",
      "[CV]  clf__estimator__min_samples_split=20, clf__estimator__n_estimators=10, tfidf__use_idf=False, vect__min_df=5, score=0.9598718339945072, total=  40.8s\n",
      "[CV] clf__estimator__min_samples_split=20, clf__estimator__n_estimators=10, tfidf__use_idf=False, vect__min_df=5 \n",
      "[CV]  clf__estimator__min_samples_split=20, clf__estimator__n_estimators=10, tfidf__use_idf=False, vect__min_df=5, score=0.9585749160817821, total=  41.3s\n",
      "[CV] clf__estimator__min_samples_split=20, clf__estimator__n_estimators=10, tfidf__use_idf=False, vect__min_df=5 \n",
      "[CV]  clf__estimator__min_samples_split=20, clf__estimator__n_estimators=10, tfidf__use_idf=False, vect__min_df=5, score=0.9586512053707659, total=  41.1s\n",
      "[CV] clf__estimator__min_samples_split=20, clf__estimator__n_estimators=25, tfidf__use_idf=True, vect__min_df=1 \n",
      "[CV]  clf__estimator__min_samples_split=20, clf__estimator__n_estimators=25, tfidf__use_idf=True, vect__min_df=1, score=0.9590326518156851, total= 1.3min\n",
      "[CV] clf__estimator__min_samples_split=20, clf__estimator__n_estimators=25, tfidf__use_idf=True, vect__min_df=1 \n",
      "[CV]  clf__estimator__min_samples_split=20, clf__estimator__n_estimators=25, tfidf__use_idf=True, vect__min_df=1, score=0.958193469636863, total= 1.3min\n",
      "[CV] clf__estimator__min_samples_split=20, clf__estimator__n_estimators=25, tfidf__use_idf=True, vect__min_df=1 \n",
      "[CV]  clf__estimator__min_samples_split=20, clf__estimator__n_estimators=25, tfidf__use_idf=True, vect__min_df=1, score=0.9597192554165395, total= 1.3min\n",
      "[CV] clf__estimator__min_samples_split=20, clf__estimator__n_estimators=25, tfidf__use_idf=True, vect__min_df=5 \n",
      "[CV]  clf__estimator__min_samples_split=20, clf__estimator__n_estimators=25, tfidf__use_idf=True, vect__min_df=5, score=0.959948123283491, total= 1.2min\n",
      "[CV] clf__estimator__min_samples_split=20, clf__estimator__n_estimators=25, tfidf__use_idf=True, vect__min_df=5 \n",
      "[CV]  clf__estimator__min_samples_split=20, clf__estimator__n_estimators=25, tfidf__use_idf=True, vect__min_df=5, score=0.9601769911504425, total= 1.2min\n",
      "[CV] clf__estimator__min_samples_split=20, clf__estimator__n_estimators=25, tfidf__use_idf=True, vect__min_df=5 \n",
      "[CV]  clf__estimator__min_samples_split=20, clf__estimator__n_estimators=25, tfidf__use_idf=True, vect__min_df=5, score=0.9610924626182484, total= 1.2min\n",
      "[CV] clf__estimator__min_samples_split=20, clf__estimator__n_estimators=25, tfidf__use_idf=False, vect__min_df=1 \n",
      "[CV]  clf__estimator__min_samples_split=20, clf__estimator__n_estimators=25, tfidf__use_idf=False, vect__min_df=1, score=0.9559047909673482, total= 1.3min\n",
      "[CV] clf__estimator__min_samples_split=20, clf__estimator__n_estimators=25, tfidf__use_idf=False, vect__min_df=1 \n",
      "[CV]  clf__estimator__min_samples_split=20, clf__estimator__n_estimators=25, tfidf__use_idf=False, vect__min_df=1, score=0.9583460482148307, total= 1.3min\n",
      "[CV] clf__estimator__min_samples_split=20, clf__estimator__n_estimators=25, tfidf__use_idf=False, vect__min_df=1 \n",
      "[CV]  clf__estimator__min_samples_split=20, clf__estimator__n_estimators=25, tfidf__use_idf=False, vect__min_df=1, score=0.958193469636863, total= 1.3min\n",
      "[CV] clf__estimator__min_samples_split=20, clf__estimator__n_estimators=25, tfidf__use_idf=False, vect__min_df=5 \n",
      "[CV]  clf__estimator__min_samples_split=20, clf__estimator__n_estimators=25, tfidf__use_idf=False, vect__min_df=5, score=0.961702776930119, total= 1.2min\n",
      "[CV] clf__estimator__min_samples_split=20, clf__estimator__n_estimators=25, tfidf__use_idf=False, vect__min_df=5 \n",
      "[CV]  clf__estimator__min_samples_split=20, clf__estimator__n_estimators=25, tfidf__use_idf=False, vect__min_df=5, score=0.9587274946597497, total= 1.2min\n",
      "[CV] clf__estimator__min_samples_split=20, clf__estimator__n_estimators=25, tfidf__use_idf=False, vect__min_df=5 \n",
      "[CV]  clf__estimator__min_samples_split=20, clf__estimator__n_estimators=25, tfidf__use_idf=False, vect__min_df=5, score=0.9617790662191028, total= 1.2min\n"
     ]
    },
    {
     "name": "stderr",
     "output_type": "stream",
     "text": [
      "[Parallel(n_jobs=1)]: Done  48 out of  48 | elapsed: 63.8min finished\n"
     ]
    }
   ],
   "source": [
    "parameters = {'vect__min_df': [1,5], \n",
    "              'tfidf__use_idf':[True, False],\n",
    "              'clf__estimator__n_estimators':[10, 25], \n",
    "              'clf__estimator__min_samples_split':[10,20]} \n",
    "\n",
    "cv = GridSearchCV(pipeline, param_grid = parameters, scoring = scorer, verbose = 10)\n",
    "np.random.seed(81)\n",
    "tuned_model = cv.fit(X_train, Y_train)"
   ]
  },
  {
   "cell_type": "code",
   "execution_count": 14,
   "metadata": {},
   "outputs": [
    {
     "data": {
      "text/plain": [
       "{'mean_fit_time': array([ 37.8937494 ,  35.01973263,  37.3113958 ,  33.75725969,\n",
       "         72.17757106,  64.89516195,  72.89476164,  62.07438962,\n",
       "         35.71436334,  33.59232283,  35.06916642,  32.52657755,\n",
       "         67.34892114,  62.39501651,  65.97053504,  59.50273808]),\n",
       " 'std_fit_time': array([ 0.10574229,  0.14756196,  0.07295737,  0.07791195,  0.22079381,\n",
       "         0.21720615,  1.83756113,  0.09895021,  0.19397604,  0.09847833,\n",
       "         0.19352334,  0.13366347,  0.30896581,  0.03333596,  0.23709961,\n",
       "         0.21741493]),\n",
       " 'mean_score_time': array([  8.91983136,   8.57536467,   8.93122292,   8.51299644,\n",
       "         11.29501049,  10.43147182,  11.320304  ,  10.26699106,\n",
       "          8.92978414,   8.54431685,   8.87297002,   8.53371493,\n",
       "         11.28384678,  10.42721057,  11.25614293,  10.29069869]),\n",
       " 'std_score_time': array([ 0.06552128,  0.06155412,  0.10324944,  0.03601376,  0.05747619,\n",
       "         0.02683135,  0.1324048 ,  0.07568489,  0.04733536,  0.09052739,\n",
       "         0.07907213,  0.0793905 ,  0.07502156,  0.0805566 ,  0.04024852,\n",
       "         0.06020999]),\n",
       " 'param_clf__estimator__min_samples_split': masked_array(data = [10 10 10 10 10 10 10 10 20 20 20 20 20 20 20 20],\n",
       "              mask = [False False False False False False False False False False False False\n",
       "  False False False False],\n",
       "        fill_value = ?),\n",
       " 'param_clf__estimator__n_estimators': masked_array(data = [10 10 10 10 25 25 25 25 10 10 10 10 25 25 25 25],\n",
       "              mask = [False False False False False False False False False False False False\n",
       "  False False False False],\n",
       "        fill_value = ?),\n",
       " 'param_tfidf__use_idf': masked_array(data = [True True False False True True False False True True False False True\n",
       "  True False False],\n",
       "              mask = [False False False False False False False False False False False False\n",
       "  False False False False],\n",
       "        fill_value = ?),\n",
       " 'param_vect__min_df': masked_array(data = [1 5 1 5 1 5 1 5 1 5 1 5 1 5 1 5],\n",
       "              mask = [False False False False False False False False False False False False\n",
       "  False False False False],\n",
       "        fill_value = ?),\n",
       " 'params': [{'clf__estimator__min_samples_split': 10,\n",
       "   'clf__estimator__n_estimators': 10,\n",
       "   'tfidf__use_idf': True,\n",
       "   'vect__min_df': 1},\n",
       "  {'clf__estimator__min_samples_split': 10,\n",
       "   'clf__estimator__n_estimators': 10,\n",
       "   'tfidf__use_idf': True,\n",
       "   'vect__min_df': 5},\n",
       "  {'clf__estimator__min_samples_split': 10,\n",
       "   'clf__estimator__n_estimators': 10,\n",
       "   'tfidf__use_idf': False,\n",
       "   'vect__min_df': 1},\n",
       "  {'clf__estimator__min_samples_split': 10,\n",
       "   'clf__estimator__n_estimators': 10,\n",
       "   'tfidf__use_idf': False,\n",
       "   'vect__min_df': 5},\n",
       "  {'clf__estimator__min_samples_split': 10,\n",
       "   'clf__estimator__n_estimators': 25,\n",
       "   'tfidf__use_idf': True,\n",
       "   'vect__min_df': 1},\n",
       "  {'clf__estimator__min_samples_split': 10,\n",
       "   'clf__estimator__n_estimators': 25,\n",
       "   'tfidf__use_idf': True,\n",
       "   'vect__min_df': 5},\n",
       "  {'clf__estimator__min_samples_split': 10,\n",
       "   'clf__estimator__n_estimators': 25,\n",
       "   'tfidf__use_idf': False,\n",
       "   'vect__min_df': 1},\n",
       "  {'clf__estimator__min_samples_split': 10,\n",
       "   'clf__estimator__n_estimators': 25,\n",
       "   'tfidf__use_idf': False,\n",
       "   'vect__min_df': 5},\n",
       "  {'clf__estimator__min_samples_split': 20,\n",
       "   'clf__estimator__n_estimators': 10,\n",
       "   'tfidf__use_idf': True,\n",
       "   'vect__min_df': 1},\n",
       "  {'clf__estimator__min_samples_split': 20,\n",
       "   'clf__estimator__n_estimators': 10,\n",
       "   'tfidf__use_idf': True,\n",
       "   'vect__min_df': 5},\n",
       "  {'clf__estimator__min_samples_split': 20,\n",
       "   'clf__estimator__n_estimators': 10,\n",
       "   'tfidf__use_idf': False,\n",
       "   'vect__min_df': 1},\n",
       "  {'clf__estimator__min_samples_split': 20,\n",
       "   'clf__estimator__n_estimators': 10,\n",
       "   'tfidf__use_idf': False,\n",
       "   'vect__min_df': 5},\n",
       "  {'clf__estimator__min_samples_split': 20,\n",
       "   'clf__estimator__n_estimators': 25,\n",
       "   'tfidf__use_idf': True,\n",
       "   'vect__min_df': 1},\n",
       "  {'clf__estimator__min_samples_split': 20,\n",
       "   'clf__estimator__n_estimators': 25,\n",
       "   'tfidf__use_idf': True,\n",
       "   'vect__min_df': 5},\n",
       "  {'clf__estimator__min_samples_split': 20,\n",
       "   'clf__estimator__n_estimators': 25,\n",
       "   'tfidf__use_idf': False,\n",
       "   'vect__min_df': 1},\n",
       "  {'clf__estimator__min_samples_split': 20,\n",
       "   'clf__estimator__n_estimators': 25,\n",
       "   'tfidf__use_idf': False,\n",
       "   'vect__min_df': 5}],\n",
       " 'split0_test_score': array([ 0.957278  ,  0.96109246,  0.95849863,  0.95994812,  0.9594141 ,\n",
       "         0.96292341,  0.95750687,  0.96452548,  0.95918523,  0.96124504,\n",
       "         0.95750687,  0.95987183,  0.95903265,  0.95994812,  0.95590479,\n",
       "         0.96170278]),\n",
       " 'split1_test_score': array([ 0.95971926,  0.96032957,  0.95987183,  0.95987183,  0.95804089,\n",
       "         0.96177907,  0.95750687,  0.95918523,  0.95880378,  0.96116875,\n",
       "         0.95735429,  0.95857492,  0.95819347,  0.96017699,  0.95834605,\n",
       "         0.95872749]),\n",
       " 'split2_test_score': array([ 0.95865121,  0.96063473,  0.95926152,  0.96177907,  0.95834605,\n",
       "         0.96231309,  0.95872749,  0.96208422,  0.95834605,  0.96177907,\n",
       "         0.95849863,  0.95865121,  0.95971926,  0.96109246,  0.95819347,\n",
       "         0.96177907]),\n",
       " 'mean_test_score': array([ 0.95854949,  0.96068559,  0.95921066,  0.96053301,  0.95860035,\n",
       "         0.96233852,  0.95791374,  0.96193164,  0.95877835,  0.96139762,\n",
       "         0.95778659,  0.95903265,  0.95898179,  0.96040586,  0.95748144,\n",
       "         0.96073645]),\n",
       " 'std_test_score': array([ 0.00099923,  0.00031352,  0.00056176,  0.00088165,  0.00058874,\n",
       "         0.00046752,  0.00057541,  0.00218282,  0.00034307,  0.00027152,\n",
       "         0.00050732,  0.00059421,  0.00062394,  0.00049441,  0.0011166 ,\n",
       "         0.00142088]),\n",
       " 'rank_test_score': array([13,  5,  8,  6, 12,  1, 14,  2, 11,  3, 15,  9, 10,  7, 16,  4], dtype=int32),\n",
       " 'split0_train_score': array([ 0.98855661,  0.98634422,  0.98809887,  0.98657309,  0.98981538,\n",
       "         0.98886176,  0.99027312,  0.98779371,  0.98447513,  0.98382667,\n",
       "         0.98455142,  0.98317821,  0.98668752,  0.98481843,  0.98581019,\n",
       "         0.98432255]),\n",
       " 'split1_train_score': array([ 0.98851846,  0.98680195,  0.98745041,  0.98523802,  0.98981538,\n",
       "         0.98798444,  0.98954837,  0.98756485,  0.98485658,  0.98382667,\n",
       "         0.98478029,  0.98329265,  0.98661123,  0.98439884,  0.98584834,\n",
       "         0.98378853]),\n",
       " 'split2_train_score': array([ 0.98764114,  0.98771742,  0.98798444,  0.98699268,  0.99019683,\n",
       "         0.98882362,  0.98947208,  0.98840403,  0.98535246,  0.98371224,\n",
       "         0.98428441,  0.98314007,  0.98691639,  0.98561947,  0.98626793,\n",
       "         0.98401739]),\n",
       " 'mean_train_score': array([ 0.98823873,  0.98695453,  0.98784457,  0.98626793,  0.98994253,\n",
       "         0.98855661,  0.98976452,  0.98792086,  0.98489472,  0.98378853,\n",
       "         0.9845387 ,  0.98320364,  0.98673838,  0.98494558,  0.98597549,\n",
       "         0.98404282]),\n",
       " 'std_train_score': array([  4.22853452e-04,   5.70896763e-04,   2.82602365e-04,\n",
       "          7.48127896e-04,   1.79815579e-04,   4.04884634e-04,\n",
       "          3.60977255e-04,   3.54195613e-04,   3.59181337e-04,\n",
       "          5.39446736e-05,   2.02641866e-04,   6.48334289e-05,\n",
       "          1.29666858e-04,   5.06365267e-04,   2.07373442e-04,\n",
       "          2.18755093e-04])}"
      ]
     },
     "execution_count": 14,
     "metadata": {},
     "output_type": "execute_result"
    }
   ],
   "source": [
    "tuned_model.cv_results_"
   ]
  },
  {
   "cell_type": "code",
   "execution_count": 15,
   "metadata": {},
   "outputs": [
    {
     "data": {
      "text/plain": [
       "0.96233852100498418"
      ]
     },
     "execution_count": 15,
     "metadata": {},
     "output_type": "execute_result"
    }
   ],
   "source": [
    "np.max(tuned_model.cv_results_['mean_test_score'])"
   ]
  },
  {
   "cell_type": "code",
   "execution_count": 16,
   "metadata": {},
   "outputs": [
    {
     "data": {
      "text/plain": [
       "{'clf__estimator__min_samples_split': 10,\n",
       " 'clf__estimator__n_estimators': 25,\n",
       " 'tfidf__use_idf': True,\n",
       " 'vect__min_df': 5}"
      ]
     },
     "execution_count": 16,
     "metadata": {},
     "output_type": "execute_result"
    }
   ],
   "source": [
    "tuned_model.best_params_"
   ]
  },
  {
   "cell_type": "markdown",
   "metadata": {},
   "source": [
    "### 7. Test your model\n",
    "Show the accuracy, precision, and recall of the tuned model.  \n",
    "\n",
    "Since this project focuses on code quality, process, and  pipelines, there is no minimum performance metric needed to pass. However, make sure to fine tune your models for accuracy, precision and recall to make your project stand out - especially for your portfolio!"
   ]
  },
  {
   "cell_type": "code",
   "execution_count": 17,
   "metadata": {},
   "outputs": [
    {
     "name": "stdout",
     "output_type": "stream",
     "text": [
      "                        Accuracy  Precision    Recall        F1\n",
      "related                 0.821483   0.821483  0.821483  0.821483\n",
      "request                 0.893042   0.893042  0.893042  0.893042\n",
      "offer                   0.996033   0.996033  0.996033  0.996033\n",
      "aid_related             0.774794   0.774794  0.774794  0.774794\n",
      "medical_help            0.919133   0.919133  0.919133  0.919133\n",
      "medical_products        0.951480   0.951480  0.951480  0.951480\n",
      "search_and_rescue       0.975130   0.975130  0.975130  0.975130\n",
      "security                0.982759   0.982759  0.982759  0.982759\n",
      "military                0.971773   0.971773  0.971773  0.971773\n",
      "child_alone             1.000000   1.000000  1.000000  1.000000\n",
      "water                   0.962161   0.962161  0.962161  0.962161\n",
      "food                    0.946292   0.946292  0.946292  0.946292\n",
      "shelter                 0.941715   0.941715  0.941715  0.941715\n",
      "clothing                0.988251   0.988251  0.988251  0.988251\n",
      "money                   0.978944   0.978944  0.978944  0.978944\n",
      "missing_people          0.987946   0.987946  0.987946  0.987946\n",
      "refugees                0.966433   0.966433  0.966433  0.966433\n",
      "death                   0.963076   0.963076  0.963076  0.963076\n",
      "other_aid               0.862984   0.862984  0.862984  0.862984\n",
      "infrastructure_related  0.935002   0.935002  0.935002  0.935002\n",
      "transport               0.953769   0.953769  0.953769  0.953769\n",
      "buildings               0.952701   0.952701  0.952701  0.952701\n",
      "electricity             0.979860   0.979860  0.979860  0.979860\n",
      "tools                   0.994202   0.994202  0.994202  0.994202\n",
      "hospitals               0.989930   0.989930  0.989930  0.989930\n",
      "shops                   0.995728   0.995728  0.995728  0.995728\n",
      "aid_centers             0.989167   0.989167  0.989167  0.989167\n",
      "other_infrastructure    0.954989   0.954989  0.954989  0.954989\n",
      "weather_related         0.888770   0.888770  0.888770  0.888770\n",
      "floods                  0.954074   0.954074  0.954074  0.954074\n",
      "storm                   0.945835   0.945835  0.945835  0.945835\n",
      "fire                    0.988404   0.988404  0.988404  0.988404\n",
      "earthquake              0.972688   0.972688  0.972688  0.972688\n",
      "cold                    0.984132   0.984132  0.984132  0.984132\n",
      "other_weather           0.950412   0.950412  0.950412  0.950412\n",
      "direct_report           0.848642   0.848642  0.848642  0.848642\n"
     ]
    }
   ],
   "source": [
    "tuned_pred_test = tuned_model.predict(X_test)\n",
    "eval_metrics1 = get_eval_metrics(np.array(Y_test), tuned_pred_test, col_names)\n",
    "print(eval_metrics1)"
   ]
  },
  {
   "cell_type": "code",
   "execution_count": 18,
   "metadata": {},
   "outputs": [
    {
     "data": {
      "text/html": [
       "<div>\n",
       "<style scoped>\n",
       "    .dataframe tbody tr th:only-of-type {\n",
       "        vertical-align: middle;\n",
       "    }\n",
       "\n",
       "    .dataframe tbody tr th {\n",
       "        vertical-align: top;\n",
       "    }\n",
       "\n",
       "    .dataframe thead th {\n",
       "        text-align: right;\n",
       "    }\n",
       "</style>\n",
       "<table border=\"1\" class=\"dataframe\">\n",
       "  <thead>\n",
       "    <tr style=\"text-align: right;\">\n",
       "      <th></th>\n",
       "      <th>Accuracy</th>\n",
       "      <th>Precision</th>\n",
       "      <th>Recall</th>\n",
       "      <th>F1</th>\n",
       "    </tr>\n",
       "  </thead>\n",
       "  <tbody>\n",
       "    <tr>\n",
       "      <th>count</th>\n",
       "      <td>36.000000</td>\n",
       "      <td>36.000000</td>\n",
       "      <td>36.000000</td>\n",
       "      <td>36.000000</td>\n",
       "    </tr>\n",
       "    <tr>\n",
       "      <th>mean</th>\n",
       "      <td>0.944572</td>\n",
       "      <td>0.944572</td>\n",
       "      <td>0.944572</td>\n",
       "      <td>0.944572</td>\n",
       "    </tr>\n",
       "    <tr>\n",
       "      <th>std</th>\n",
       "      <td>0.058509</td>\n",
       "      <td>0.058509</td>\n",
       "      <td>0.058509</td>\n",
       "      <td>0.058509</td>\n",
       "    </tr>\n",
       "    <tr>\n",
       "      <th>min</th>\n",
       "      <td>0.740769</td>\n",
       "      <td>0.740769</td>\n",
       "      <td>0.740769</td>\n",
       "      <td>0.740769</td>\n",
       "    </tr>\n",
       "    <tr>\n",
       "      <th>25%</th>\n",
       "      <td>0.935307</td>\n",
       "      <td>0.935307</td>\n",
       "      <td>0.935307</td>\n",
       "      <td>0.935307</td>\n",
       "    </tr>\n",
       "    <tr>\n",
       "      <th>50%</th>\n",
       "      <td>0.957736</td>\n",
       "      <td>0.957736</td>\n",
       "      <td>0.957736</td>\n",
       "      <td>0.957736</td>\n",
       "    </tr>\n",
       "    <tr>\n",
       "      <th>75%</th>\n",
       "      <td>0.984551</td>\n",
       "      <td>0.984551</td>\n",
       "      <td>0.984551</td>\n",
       "      <td>0.984551</td>\n",
       "    </tr>\n",
       "    <tr>\n",
       "      <th>max</th>\n",
       "      <td>1.000000</td>\n",
       "      <td>1.000000</td>\n",
       "      <td>1.000000</td>\n",
       "      <td>1.000000</td>\n",
       "    </tr>\n",
       "  </tbody>\n",
       "</table>\n",
       "</div>"
      ],
      "text/plain": [
       "        Accuracy  Precision     Recall         F1\n",
       "count  36.000000  36.000000  36.000000  36.000000\n",
       "mean    0.944572   0.944572   0.944572   0.944572\n",
       "std     0.058509   0.058509   0.058509   0.058509\n",
       "min     0.740769   0.740769   0.740769   0.740769\n",
       "25%     0.935307   0.935307   0.935307   0.935307\n",
       "50%     0.957736   0.957736   0.957736   0.957736\n",
       "75%     0.984551   0.984551   0.984551   0.984551\n",
       "max     1.000000   1.000000   1.000000   1.000000"
      ]
     },
     "execution_count": 18,
     "metadata": {},
     "output_type": "execute_result"
    }
   ],
   "source": [
    "eval_metrics0.describe()"
   ]
  },
  {
   "cell_type": "code",
   "execution_count": 19,
   "metadata": {},
   "outputs": [
    {
     "data": {
      "text/html": [
       "<div>\n",
       "<style scoped>\n",
       "    .dataframe tbody tr th:only-of-type {\n",
       "        vertical-align: middle;\n",
       "    }\n",
       "\n",
       "    .dataframe tbody tr th {\n",
       "        vertical-align: top;\n",
       "    }\n",
       "\n",
       "    .dataframe thead th {\n",
       "        text-align: right;\n",
       "    }\n",
       "</style>\n",
       "<table border=\"1\" class=\"dataframe\">\n",
       "  <thead>\n",
       "    <tr style=\"text-align: right;\">\n",
       "      <th></th>\n",
       "      <th>Accuracy</th>\n",
       "      <th>Precision</th>\n",
       "      <th>Recall</th>\n",
       "      <th>F1</th>\n",
       "    </tr>\n",
       "  </thead>\n",
       "  <tbody>\n",
       "    <tr>\n",
       "      <th>count</th>\n",
       "      <td>36.000000</td>\n",
       "      <td>36.000000</td>\n",
       "      <td>36.000000</td>\n",
       "      <td>36.000000</td>\n",
       "    </tr>\n",
       "    <tr>\n",
       "      <th>mean</th>\n",
       "      <td>0.948937</td>\n",
       "      <td>0.948937</td>\n",
       "      <td>0.948937</td>\n",
       "      <td>0.948937</td>\n",
       "    </tr>\n",
       "    <tr>\n",
       "      <th>std</th>\n",
       "      <td>0.052291</td>\n",
       "      <td>0.052291</td>\n",
       "      <td>0.052291</td>\n",
       "      <td>0.052291</td>\n",
       "    </tr>\n",
       "    <tr>\n",
       "      <th>min</th>\n",
       "      <td>0.774794</td>\n",
       "      <td>0.774794</td>\n",
       "      <td>0.774794</td>\n",
       "      <td>0.774794</td>\n",
       "    </tr>\n",
       "    <tr>\n",
       "      <th>25%</th>\n",
       "      <td>0.944805</td>\n",
       "      <td>0.944805</td>\n",
       "      <td>0.944805</td>\n",
       "      <td>0.944805</td>\n",
       "    </tr>\n",
       "    <tr>\n",
       "      <th>50%</th>\n",
       "      <td>0.962618</td>\n",
       "      <td>0.962618</td>\n",
       "      <td>0.962618</td>\n",
       "      <td>0.962618</td>\n",
       "    </tr>\n",
       "    <tr>\n",
       "      <th>75%</th>\n",
       "      <td>0.985085</td>\n",
       "      <td>0.985085</td>\n",
       "      <td>0.985085</td>\n",
       "      <td>0.985085</td>\n",
       "    </tr>\n",
       "    <tr>\n",
       "      <th>max</th>\n",
       "      <td>1.000000</td>\n",
       "      <td>1.000000</td>\n",
       "      <td>1.000000</td>\n",
       "      <td>1.000000</td>\n",
       "    </tr>\n",
       "  </tbody>\n",
       "</table>\n",
       "</div>"
      ],
      "text/plain": [
       "        Accuracy  Precision     Recall         F1\n",
       "count  36.000000  36.000000  36.000000  36.000000\n",
       "mean    0.948937   0.948937   0.948937   0.948937\n",
       "std     0.052291   0.052291   0.052291   0.052291\n",
       "min     0.774794   0.774794   0.774794   0.774794\n",
       "25%     0.944805   0.944805   0.944805   0.944805\n",
       "50%     0.962618   0.962618   0.962618   0.962618\n",
       "75%     0.985085   0.985085   0.985085   0.985085\n",
       "max     1.000000   1.000000   1.000000   1.000000"
      ]
     },
     "execution_count": 19,
     "metadata": {},
     "output_type": "execute_result"
    }
   ],
   "source": [
    "eval_metrics1.describe()"
   ]
  },
  {
   "cell_type": "markdown",
   "metadata": {},
   "source": [
    "### 8. Try improving your model further. Here are a few ideas:\n",
    "* try other machine learning algorithms\n",
    "* add other features besides the TF-IDF"
   ]
  },
  {
   "cell_type": "code",
   "execution_count": 20,
   "metadata": {},
   "outputs": [],
   "source": [
    "from sklearn.ensemble import AdaBoostClassifier\n",
    "# Create a updated RandomForestClassifier with random_state pipeline with Classifier\n",
    "pipeline2 = Pipeline([\n",
    "    ('vect', CountVectorizer(tokenizer = tokenize)),\n",
    "    ('tfidf', TfidfTransformer()),\n",
    "    ('clf', MultiOutputClassifier(AdaBoostClassifier()))\n",
    "])\n",
    "\n",
    "parameters2 = {'vect__min_df': [1,5], #1,5\n",
    "               'tfidf__use_idf':[True, False],\n",
    "               'clf__estimator__n_estimators':[15,25]\n",
    "              } "
   ]
  },
  {
   "cell_type": "code",
   "execution_count": 21,
   "metadata": {},
   "outputs": [
    {
     "name": "stdout",
     "output_type": "stream",
     "text": [
      "Fitting 3 folds for each of 8 candidates, totalling 24 fits\n",
      "[CV] clf__estimator__n_estimators=15, tfidf__use_idf=True, vect__min_df=1 \n",
      "[CV]  clf__estimator__n_estimators=15, tfidf__use_idf=True, vect__min_df=1, score=0.9652883735123589, total=  40.8s\n",
      "[CV] clf__estimator__n_estimators=15, tfidf__use_idf=True, vect__min_df=1 \n"
     ]
    },
    {
     "name": "stderr",
     "output_type": "stream",
     "text": [
      "[Parallel(n_jobs=1)]: Done   1 out of   1 | elapsed:   56.5s remaining:    0.0s\n"
     ]
    },
    {
     "name": "stdout",
     "output_type": "stream",
     "text": [
      "[CV]  clf__estimator__n_estimators=15, tfidf__use_idf=True, vect__min_df=1, score=0.9651357949343912, total=  40.5s\n",
      "[CV] clf__estimator__n_estimators=15, tfidf__use_idf=True, vect__min_df=1 \n"
     ]
    },
    {
     "name": "stderr",
     "output_type": "stream",
     "text": [
      "[Parallel(n_jobs=1)]: Done   2 out of   2 | elapsed:  1.9min remaining:    0.0s\n"
     ]
    },
    {
     "name": "stdout",
     "output_type": "stream",
     "text": [
      "[CV]  clf__estimator__n_estimators=15, tfidf__use_idf=True, vect__min_df=1, score=0.9645254806225205, total=  40.8s\n",
      "[CV] clf__estimator__n_estimators=15, tfidf__use_idf=True, vect__min_df=5 \n"
     ]
    },
    {
     "name": "stderr",
     "output_type": "stream",
     "text": [
      "[Parallel(n_jobs=1)]: Done   3 out of   3 | elapsed:  2.8min remaining:    0.0s\n"
     ]
    },
    {
     "name": "stdout",
     "output_type": "stream",
     "text": [
      "[CV]  clf__estimator__n_estimators=15, tfidf__use_idf=True, vect__min_df=5, score=0.9652120842233751, total=  37.9s\n",
      "[CV] clf__estimator__n_estimators=15, tfidf__use_idf=True, vect__min_df=5 \n"
     ]
    },
    {
     "name": "stderr",
     "output_type": "stream",
     "text": [
      "[Parallel(n_jobs=1)]: Done   4 out of   4 | elapsed:  3.7min remaining:    0.0s\n"
     ]
    },
    {
     "name": "stdout",
     "output_type": "stream",
     "text": [
      "[CV]  clf__estimator__n_estimators=15, tfidf__use_idf=True, vect__min_df=5, score=0.9644491913335367, total=  38.3s\n",
      "[CV] clf__estimator__n_estimators=15, tfidf__use_idf=True, vect__min_df=5 \n"
     ]
    },
    {
     "name": "stderr",
     "output_type": "stream",
     "text": [
      "[Parallel(n_jobs=1)]: Done   5 out of   5 | elapsed:  4.6min remaining:    0.0s\n"
     ]
    },
    {
     "name": "stdout",
     "output_type": "stream",
     "text": [
      "[CV]  clf__estimator__n_estimators=15, tfidf__use_idf=True, vect__min_df=5, score=0.9644491913335367, total=  38.0s\n",
      "[CV] clf__estimator__n_estimators=15, tfidf__use_idf=False, vect__min_df=1 \n"
     ]
    },
    {
     "name": "stderr",
     "output_type": "stream",
     "text": [
      "[Parallel(n_jobs=1)]: Done   6 out of   6 | elapsed:  5.5min remaining:    0.0s\n"
     ]
    },
    {
     "name": "stdout",
     "output_type": "stream",
     "text": [
      "[CV]  clf__estimator__n_estimators=15, tfidf__use_idf=False, vect__min_df=1, score=0.9655172413793103, total=  38.9s\n",
      "[CV] clf__estimator__n_estimators=15, tfidf__use_idf=False, vect__min_df=1 \n"
     ]
    },
    {
     "name": "stderr",
     "output_type": "stream",
     "text": [
      "[Parallel(n_jobs=1)]: Done   7 out of   7 | elapsed:  6.4min remaining:    0.0s\n"
     ]
    },
    {
     "name": "stdout",
     "output_type": "stream",
     "text": [
      "[CV]  clf__estimator__n_estimators=15, tfidf__use_idf=False, vect__min_df=1, score=0.9647543484894721, total=  38.5s\n",
      "[CV] clf__estimator__n_estimators=15, tfidf__use_idf=False, vect__min_df=1 \n"
     ]
    },
    {
     "name": "stderr",
     "output_type": "stream",
     "text": [
      "[Parallel(n_jobs=1)]: Done   8 out of   8 | elapsed:  7.3min remaining:    0.0s\n"
     ]
    },
    {
     "name": "stdout",
     "output_type": "stream",
     "text": [
      "[CV]  clf__estimator__n_estimators=15, tfidf__use_idf=False, vect__min_df=1, score=0.9636100091547146, total=  38.7s\n",
      "[CV] clf__estimator__n_estimators=15, tfidf__use_idf=False, vect__min_df=5 \n"
     ]
    },
    {
     "name": "stderr",
     "output_type": "stream",
     "text": [
      "[Parallel(n_jobs=1)]: Done   9 out of   9 | elapsed:  8.2min remaining:    0.0s\n"
     ]
    },
    {
     "name": "stdout",
     "output_type": "stream",
     "text": [
      "[CV]  clf__estimator__n_estimators=15, tfidf__use_idf=False, vect__min_df=5, score=0.9653646628013427, total=  36.0s\n",
      "[CV] clf__estimator__n_estimators=15, tfidf__use_idf=False, vect__min_df=5 \n",
      "[CV]  clf__estimator__n_estimators=15, tfidf__use_idf=False, vect__min_df=5, score=0.9646780592004882, total=  36.2s\n",
      "[CV] clf__estimator__n_estimators=15, tfidf__use_idf=False, vect__min_df=5 \n",
      "[CV]  clf__estimator__n_estimators=15, tfidf__use_idf=False, vect__min_df=5, score=0.9635337198657309, total=  36.3s\n",
      "[CV] clf__estimator__n_estimators=25, tfidf__use_idf=True, vect__min_df=1 \n",
      "[CV]  clf__estimator__n_estimators=25, tfidf__use_idf=True, vect__min_df=1, score=0.965669819957278, total=  53.4s\n",
      "[CV] clf__estimator__n_estimators=25, tfidf__use_idf=True, vect__min_df=1 \n",
      "[CV]  clf__estimator__n_estimators=25, tfidf__use_idf=True, vect__min_df=1, score=0.9646780592004882, total=  53.0s\n",
      "[CV] clf__estimator__n_estimators=25, tfidf__use_idf=True, vect__min_df=1 \n",
      "[CV]  clf__estimator__n_estimators=25, tfidf__use_idf=True, vect__min_df=1, score=0.9646017699115044, total=  53.2s\n",
      "[CV] clf__estimator__n_estimators=25, tfidf__use_idf=True, vect__min_df=5 \n",
      "[CV]  clf__estimator__n_estimators=25, tfidf__use_idf=True, vect__min_df=5, score=0.9647543484894721, total=  48.8s\n",
      "[CV] clf__estimator__n_estimators=25, tfidf__use_idf=True, vect__min_df=5 \n",
      "[CV]  clf__estimator__n_estimators=25, tfidf__use_idf=True, vect__min_df=5, score=0.9651357949343912, total=  48.8s\n",
      "[CV] clf__estimator__n_estimators=25, tfidf__use_idf=True, vect__min_df=5 \n",
      "[CV]  clf__estimator__n_estimators=25, tfidf__use_idf=True, vect__min_df=5, score=0.9650595056454074, total=  48.6s\n",
      "[CV] clf__estimator__n_estimators=25, tfidf__use_idf=False, vect__min_df=1 \n",
      "[CV]  clf__estimator__n_estimators=25, tfidf__use_idf=False, vect__min_df=1, score=0.9660512664021972, total=  50.0s\n",
      "[CV] clf__estimator__n_estimators=25, tfidf__use_idf=False, vect__min_df=1 \n",
      "[CV]  clf__estimator__n_estimators=25, tfidf__use_idf=False, vect__min_df=1, score=0.9653646628013427, total=  50.2s\n",
      "[CV] clf__estimator__n_estimators=25, tfidf__use_idf=False, vect__min_df=1 \n",
      "[CV]  clf__estimator__n_estimators=25, tfidf__use_idf=False, vect__min_df=1, score=0.9644491913335368, total=  51.0s\n",
      "[CV] clf__estimator__n_estimators=25, tfidf__use_idf=False, vect__min_df=5 \n",
      "[CV]  clf__estimator__n_estimators=25, tfidf__use_idf=False, vect__min_df=5, score=0.9641440341776015, total=  45.7s\n",
      "[CV] clf__estimator__n_estimators=25, tfidf__use_idf=False, vect__min_df=5 \n",
      "[CV]  clf__estimator__n_estimators=25, tfidf__use_idf=False, vect__min_df=5, score=0.9650595056454074, total=  45.6s\n",
      "[CV] clf__estimator__n_estimators=25, tfidf__use_idf=False, vect__min_df=5 \n",
      "[CV]  clf__estimator__n_estimators=25, tfidf__use_idf=False, vect__min_df=5, score=0.9641440341776015, total=  45.6s\n"
     ]
    },
    {
     "name": "stderr",
     "output_type": "stream",
     "text": [
      "[Parallel(n_jobs=1)]: Done  24 out of  24 | elapsed: 24.0min finished\n"
     ]
    }
   ],
   "source": [
    "cv2 = GridSearchCV(pipeline2, param_grid = parameters2, scoring = scorer, verbose = 10)\n",
    "np.random.seed(81)\n",
    "tuned_model2 = cv2.fit(X_train, Y_train)"
   ]
  },
  {
   "cell_type": "code",
   "execution_count": 22,
   "metadata": {},
   "outputs": [
    {
     "data": {
      "text/plain": [
       "{'mean_fit_time': array([ 32.81378555,  30.13204209,  30.83274802,  28.27428174,\n",
       "         44.89051032,  40.49973981,  41.99026847,  37.3639733 ]),\n",
       " 'std_fit_time': array([ 0.1827561 ,  0.05599761,  0.14780355,  0.112093  ,  0.1346796 ,\n",
       "         0.04620197,  0.27525646,  0.08395356]),\n",
       " 'mean_score_time': array([ 7.85963241,  7.93796802,  7.88095403,  7.86688995,  8.28390519,\n",
       "         8.24300853,  8.41327477,  8.27569326]),\n",
       " 'std_score_time': array([ 0.04427277,  0.11229089,  0.01873229,  0.09837914,  0.02127967,\n",
       "         0.0484349 ,  0.13455387,  0.0837286 ]),\n",
       " 'param_clf__estimator__n_estimators': masked_array(data = [15 15 15 15 25 25 25 25],\n",
       "              mask = [False False False False False False False False],\n",
       "        fill_value = ?),\n",
       " 'param_tfidf__use_idf': masked_array(data = [True True False False True True False False],\n",
       "              mask = [False False False False False False False False],\n",
       "        fill_value = ?),\n",
       " 'param_vect__min_df': masked_array(data = [1 5 1 5 1 5 1 5],\n",
       "              mask = [False False False False False False False False],\n",
       "        fill_value = ?),\n",
       " 'params': [{'clf__estimator__n_estimators': 15,\n",
       "   'tfidf__use_idf': True,\n",
       "   'vect__min_df': 1},\n",
       "  {'clf__estimator__n_estimators': 15,\n",
       "   'tfidf__use_idf': True,\n",
       "   'vect__min_df': 5},\n",
       "  {'clf__estimator__n_estimators': 15,\n",
       "   'tfidf__use_idf': False,\n",
       "   'vect__min_df': 1},\n",
       "  {'clf__estimator__n_estimators': 15,\n",
       "   'tfidf__use_idf': False,\n",
       "   'vect__min_df': 5},\n",
       "  {'clf__estimator__n_estimators': 25,\n",
       "   'tfidf__use_idf': True,\n",
       "   'vect__min_df': 1},\n",
       "  {'clf__estimator__n_estimators': 25,\n",
       "   'tfidf__use_idf': True,\n",
       "   'vect__min_df': 5},\n",
       "  {'clf__estimator__n_estimators': 25,\n",
       "   'tfidf__use_idf': False,\n",
       "   'vect__min_df': 1},\n",
       "  {'clf__estimator__n_estimators': 25,\n",
       "   'tfidf__use_idf': False,\n",
       "   'vect__min_df': 5}],\n",
       " 'split0_test_score': array([ 0.96528837,  0.96521208,  0.96551724,  0.96536466,  0.96566982,\n",
       "         0.96475435,  0.96605127,  0.96414403]),\n",
       " 'split1_test_score': array([ 0.96513579,  0.96444919,  0.96475435,  0.96467806,  0.96467806,\n",
       "         0.96513579,  0.96536466,  0.96505951]),\n",
       " 'split2_test_score': array([ 0.96452548,  0.96444919,  0.96361001,  0.96353372,  0.96460177,\n",
       "         0.96505951,  0.96444919,  0.96414403]),\n",
       " 'mean_test_score': array([ 0.96498322,  0.96470349,  0.9646272 ,  0.96452548,  0.96498322,\n",
       "         0.96498322,  0.96528837,  0.96444919]),\n",
       " 'std_test_score': array([ 0.00032961,  0.00035963,  0.0007838 ,  0.00075523,  0.0004865 ,\n",
       "         0.0001648 ,  0.00065627,  0.00043156]),\n",
       " 'rank_test_score': array([2, 5, 6, 7, 2, 2, 1, 8], dtype=int32),\n",
       " 'split0_train_score': array([ 0.9654791 ,  0.9654791 ,  0.96536466,  0.96570796,  0.96628013,\n",
       "         0.96563168,  0.96647086,  0.96593683]),\n",
       " 'split1_train_score': array([ 0.96528837,  0.96521208,  0.96483064,  0.96639457,  0.96628013,\n",
       "         0.96639457,  0.96643271,  0.96692859]),\n",
       " 'split2_train_score': array([ 0.96521208,  0.96647086,  0.9658224 ,  0.96601312,  0.96608941,\n",
       "         0.96753891,  0.96677601,  0.96654715]),\n",
       " 'mean_train_score': array([ 0.96532652,  0.96572068,  0.96533923,  0.96603855,  0.96621656,\n",
       "         0.96652172,  0.96655986,  0.96647086]),\n",
       " 'std_train_score': array([  1.12294793e-04,   5.41540521e-04,   4.05283731e-04,\n",
       "          2.80880913e-04,   8.99077893e-05,   7.83797935e-04,\n",
       "          1.53634498e-04,   4.08462476e-04])}"
      ]
     },
     "execution_count": 22,
     "metadata": {},
     "output_type": "execute_result"
    }
   ],
   "source": [
    "tuned_model2.cv_results_"
   ]
  },
  {
   "cell_type": "code",
   "execution_count": 23,
   "metadata": {},
   "outputs": [
    {
     "name": "stdout",
     "output_type": "stream",
     "text": [
      "                        Accuracy  Precision    Recall        F1\n",
      "related                 0.754196   0.754196  0.754196  0.754196\n",
      "request                 0.877479   0.877479  0.877479  0.877479\n",
      "offer                   0.995575   0.995575  0.995575  0.995575\n",
      "aid_related             0.741379   0.741379  0.741379  0.741379\n",
      "medical_help            0.925084   0.925084  0.925084  0.925084\n",
      "medical_products        0.953616   0.953616  0.953616  0.953616\n",
      "search_and_rescue       0.975282   0.975282  0.975282  0.975282\n",
      "security                0.982148   0.982148  0.982148  0.982148\n",
      "military                0.971620   0.971620  0.971620  0.971620\n",
      "child_alone             1.000000   1.000000  1.000000  1.000000\n",
      "water                   0.960940   0.960940  0.960940  0.960940\n",
      "food                    0.942630   0.942630  0.942630  0.942630\n",
      "shelter                 0.943546   0.943546  0.943546  0.943546\n",
      "clothing                0.990845   0.990845  0.990845  0.990845\n",
      "money                   0.979249   0.979249  0.979249  0.979249\n",
      "missing_people          0.989625   0.989625  0.989625  0.989625\n",
      "refugees                0.967958   0.967958  0.967958  0.967958\n",
      "death                   0.969637   0.969637  0.969637  0.969637\n",
      "other_aid               0.864358   0.864358  0.864358  0.864358\n",
      "infrastructure_related  0.936680   0.936680  0.936680  0.936680\n",
      "transport               0.958346   0.958346  0.958346  0.958346\n",
      "buildings               0.960787   0.960787  0.960787  0.960787\n",
      "electricity             0.979554   0.979554  0.979554  0.979554\n",
      "tools                   0.993744   0.993744  0.993744  0.993744\n",
      "hospitals               0.988251   0.988251  0.988251  0.988251\n",
      "shops                   0.995575   0.995575  0.995575  0.995575\n",
      "aid_centers             0.987946   0.987946  0.987946  0.987946\n",
      "other_infrastructure    0.953769   0.953769  0.953769  0.953769\n",
      "weather_related         0.864205   0.864205  0.864205  0.864205\n",
      "floods                  0.956973   0.956973  0.956973  0.956973\n",
      "storm                   0.930424   0.930424  0.930424  0.930424\n",
      "fire                    0.989319   0.989319  0.989319  0.989319\n",
      "earthquake              0.969789   0.969789  0.969789  0.969789\n",
      "cold                    0.984590   0.984590  0.984590  0.984590\n",
      "other_weather           0.947208   0.947208  0.947208  0.947208\n",
      "direct_report           0.838267   0.838267  0.838267  0.838267\n"
     ]
    }
   ],
   "source": [
    "tuned_pred_test2 = tuned_model2.predict(X_test)\n",
    "eval_metrics2 = get_eval_metrics(np.array(Y_test), tuned_pred_test2, col_names)\n",
    "print(eval_metrics2)"
   ]
  },
  {
   "cell_type": "code",
   "execution_count": 24,
   "metadata": {},
   "outputs": [],
   "source": [
    "from sklearn.ensemble import AdaBoostClassifier\n",
    "# Create a updated RandomForestClassifier with random_state pipeline with Classifier\n",
    "pipeline3 = Pipeline([\n",
    "    ('vect', CountVectorizer(tokenizer = tokenize)),\n",
    "    ('tfidf', TfidfTransformer()),\n",
    "    ('clf', MultiOutputClassifier(AdaBoostClassifier()))\n",
    "])\n",
    "\n",
    "parameters3 = {'vect__min_df': [1], #1,5\n",
    "               'tfidf__use_idf':[False],\n",
    "               'clf__estimator__n_estimators':[25]\n",
    "              } "
   ]
  },
  {
   "cell_type": "code",
   "execution_count": 25,
   "metadata": {},
   "outputs": [
    {
     "name": "stdout",
     "output_type": "stream",
     "text": [
      "Fitting 3 folds for each of 1 candidates, totalling 3 fits\n",
      "[CV] clf__estimator__n_estimators=25, tfidf__use_idf=False, vect__min_df=1 \n",
      "[CV]  clf__estimator__n_estimators=25, tfidf__use_idf=False, vect__min_df=1, score=0.9660512664021972, total=  51.1s\n",
      "[CV] clf__estimator__n_estimators=25, tfidf__use_idf=False, vect__min_df=1 \n"
     ]
    },
    {
     "name": "stderr",
     "output_type": "stream",
     "text": [
      "[Parallel(n_jobs=1)]: Done   1 out of   1 | elapsed:  1.1min remaining:    0.0s\n"
     ]
    },
    {
     "name": "stdout",
     "output_type": "stream",
     "text": [
      "[CV]  clf__estimator__n_estimators=25, tfidf__use_idf=False, vect__min_df=1, score=0.9653646628013427, total=  50.2s\n",
      "[CV] clf__estimator__n_estimators=25, tfidf__use_idf=False, vect__min_df=1 \n"
     ]
    },
    {
     "name": "stderr",
     "output_type": "stream",
     "text": [
      "[Parallel(n_jobs=1)]: Done   2 out of   2 | elapsed:  2.2min remaining:    0.0s\n"
     ]
    },
    {
     "name": "stdout",
     "output_type": "stream",
     "text": [
      "[CV]  clf__estimator__n_estimators=25, tfidf__use_idf=False, vect__min_df=1, score=0.9644491913335368, total=  50.5s\n"
     ]
    },
    {
     "name": "stderr",
     "output_type": "stream",
     "text": [
      "[Parallel(n_jobs=1)]: Done   3 out of   3 | elapsed:  3.4min remaining:    0.0s\n",
      "[Parallel(n_jobs=1)]: Done   3 out of   3 | elapsed:  3.4min finished\n"
     ]
    }
   ],
   "source": [
    "cv3 = GridSearchCV(pipeline3, param_grid = parameters3, scoring = scorer, verbose = 10)\n",
    "np.random.seed(81)\n",
    "tuned_model3 = cv3.fit(X_train, Y_train)"
   ]
  },
  {
   "cell_type": "code",
   "execution_count": 26,
   "metadata": {},
   "outputs": [
    {
     "data": {
      "text/plain": [
       "{'mean_fit_time': array([ 42.23919892]),\n",
       " 'std_fit_time': array([ 0.33011276]),\n",
       " 'mean_score_time': array([ 8.33901278]),\n",
       " 'std_score_time': array([ 0.07305561]),\n",
       " 'param_clf__estimator__n_estimators': masked_array(data = [25],\n",
       "              mask = [False],\n",
       "        fill_value = ?),\n",
       " 'param_tfidf__use_idf': masked_array(data = [False],\n",
       "              mask = [False],\n",
       "        fill_value = ?),\n",
       " 'param_vect__min_df': masked_array(data = [1],\n",
       "              mask = [False],\n",
       "        fill_value = ?),\n",
       " 'params': [{'clf__estimator__n_estimators': 25,\n",
       "   'tfidf__use_idf': False,\n",
       "   'vect__min_df': 1}],\n",
       " 'split0_test_score': array([ 0.96605127]),\n",
       " 'split1_test_score': array([ 0.96536466]),\n",
       " 'split2_test_score': array([ 0.96444919]),\n",
       " 'mean_test_score': array([ 0.96528837]),\n",
       " 'std_test_score': array([ 0.00065627]),\n",
       " 'rank_test_score': array([1], dtype=int32),\n",
       " 'split0_train_score': array([ 0.96647086]),\n",
       " 'split1_train_score': array([ 0.96643271]),\n",
       " 'split2_train_score': array([ 0.96677601]),\n",
       " 'mean_train_score': array([ 0.96655986]),\n",
       " 'std_train_score': array([ 0.00015363])}"
      ]
     },
     "execution_count": 26,
     "metadata": {},
     "output_type": "execute_result"
    }
   ],
   "source": [
    "tuned_model3.cv_results_"
   ]
  },
  {
   "cell_type": "code",
   "execution_count": 27,
   "metadata": {},
   "outputs": [
    {
     "name": "stdout",
     "output_type": "stream",
     "text": [
      "                        Accuracy  Precision    Recall        F1\n",
      "related                 0.754196   0.754196  0.754196  0.754196\n",
      "request                 0.877479   0.877479  0.877479  0.877479\n",
      "offer                   0.995575   0.995575  0.995575  0.995575\n",
      "aid_related             0.741379   0.741379  0.741379  0.741379\n",
      "medical_help            0.925084   0.925084  0.925084  0.925084\n",
      "medical_products        0.953616   0.953616  0.953616  0.953616\n",
      "search_and_rescue       0.975282   0.975282  0.975282  0.975282\n",
      "security                0.982148   0.982148  0.982148  0.982148\n",
      "military                0.971620   0.971620  0.971620  0.971620\n",
      "child_alone             1.000000   1.000000  1.000000  1.000000\n",
      "water                   0.960940   0.960940  0.960940  0.960940\n",
      "food                    0.942630   0.942630  0.942630  0.942630\n",
      "shelter                 0.943546   0.943546  0.943546  0.943546\n",
      "clothing                0.990845   0.990845  0.990845  0.990845\n",
      "money                   0.979249   0.979249  0.979249  0.979249\n",
      "missing_people          0.989625   0.989625  0.989625  0.989625\n",
      "refugees                0.967958   0.967958  0.967958  0.967958\n",
      "death                   0.969637   0.969637  0.969637  0.969637\n",
      "other_aid               0.864358   0.864358  0.864358  0.864358\n",
      "infrastructure_related  0.936680   0.936680  0.936680  0.936680\n",
      "transport               0.958346   0.958346  0.958346  0.958346\n",
      "buildings               0.960787   0.960787  0.960787  0.960787\n",
      "electricity             0.979554   0.979554  0.979554  0.979554\n",
      "tools                   0.993744   0.993744  0.993744  0.993744\n",
      "hospitals               0.988251   0.988251  0.988251  0.988251\n",
      "shops                   0.995575   0.995575  0.995575  0.995575\n",
      "aid_centers             0.987946   0.987946  0.987946  0.987946\n",
      "other_infrastructure    0.953769   0.953769  0.953769  0.953769\n",
      "weather_related         0.864205   0.864205  0.864205  0.864205\n",
      "floods                  0.956973   0.956973  0.956973  0.956973\n",
      "storm                   0.930424   0.930424  0.930424  0.930424\n",
      "fire                    0.989319   0.989319  0.989319  0.989319\n",
      "earthquake              0.969789   0.969789  0.969789  0.969789\n",
      "cold                    0.984590   0.984590  0.984590  0.984590\n",
      "other_weather           0.947208   0.947208  0.947208  0.947208\n",
      "direct_report           0.838267   0.838267  0.838267  0.838267\n"
     ]
    }
   ],
   "source": [
    "tuned_pred_test3 = tuned_model3.predict(X_test)\n",
    "eval_metrics3 = get_eval_metrics(np.array(Y_test),tuned_pred_test3, col_names)\n",
    "print(eval_metrics3)"
   ]
  },
  {
   "cell_type": "markdown",
   "metadata": {},
   "source": [
    "### 9. Export your model as a pickle file"
   ]
  },
  {
   "cell_type": "code",
   "execution_count": 28,
   "metadata": {},
   "outputs": [],
   "source": [
    "pickle.dump(tuned_model3, open('disaster_model.sav', 'wb'))"
   ]
  },
  {
   "cell_type": "markdown",
   "metadata": {},
   "source": [
    "### 10. Use this notebook to complete `train.py`\n",
    "Use the template file attached in the Resources folder to write a script that runs the steps above to create a database and export a model based on a new dataset specified by the user."
   ]
  },
  {
   "cell_type": "code",
   "execution_count": null,
   "metadata": {},
   "outputs": [],
   "source": []
  },
  {
   "cell_type": "code",
   "execution_count": null,
   "metadata": {},
   "outputs": [],
   "source": []
  }
 ],
 "metadata": {
  "kernelspec": {
   "display_name": "Python 3",
   "language": "python",
   "name": "python3"
  },
  "language_info": {
   "codemirror_mode": {
    "name": "ipython",
    "version": 3
   },
   "file_extension": ".py",
   "mimetype": "text/x-python",
   "name": "python",
   "nbconvert_exporter": "python",
   "pygments_lexer": "ipython3",
   "version": "3.6.3"
  }
 },
 "nbformat": 4,
 "nbformat_minor": 2
}
